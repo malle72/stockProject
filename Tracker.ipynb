{
 "cells": [
  {
   "cell_type": "code",
   "execution_count": 27,
   "metadata": {},
   "outputs": [],
   "source": [
    "import pandas as pd\n",
    "import yfinance as yf\n",
    "import numpy as np\n",
    "import matplotlib.pyplot as plt\n",
    "import seaborn as sns\n",
    "from datetime import date"
   ]
  },
  {
   "cell_type": "code",
   "execution_count": 17,
   "metadata": {},
   "outputs": [],
   "source": [
    "df_stocks = pd.read_csv('constituents_csv.csv')"
   ]
  },
  {
   "cell_type": "code",
   "execution_count": 18,
   "metadata": {},
   "outputs": [
    {
     "data": {
      "text/html": [
       "<div>\n",
       "<style scoped>\n",
       "    .dataframe tbody tr th:only-of-type {\n",
       "        vertical-align: middle;\n",
       "    }\n",
       "\n",
       "    .dataframe tbody tr th {\n",
       "        vertical-align: top;\n",
       "    }\n",
       "\n",
       "    .dataframe thead th {\n",
       "        text-align: right;\n",
       "    }\n",
       "</style>\n",
       "<table border=\"1\" class=\"dataframe\">\n",
       "  <thead>\n",
       "    <tr style=\"text-align: right;\">\n",
       "      <th></th>\n",
       "      <th>Symbol</th>\n",
       "      <th>Name</th>\n",
       "      <th>Sector</th>\n",
       "    </tr>\n",
       "  </thead>\n",
       "  <tbody>\n",
       "    <tr>\n",
       "      <th>0</th>\n",
       "      <td>MMM</td>\n",
       "      <td>3M Company</td>\n",
       "      <td>Industrials</td>\n",
       "    </tr>\n",
       "    <tr>\n",
       "      <th>1</th>\n",
       "      <td>AOS</td>\n",
       "      <td>A.O. Smith Corp</td>\n",
       "      <td>Industrials</td>\n",
       "    </tr>\n",
       "    <tr>\n",
       "      <th>2</th>\n",
       "      <td>ABT</td>\n",
       "      <td>Abbott Laboratories</td>\n",
       "      <td>Health Care</td>\n",
       "    </tr>\n",
       "    <tr>\n",
       "      <th>3</th>\n",
       "      <td>ABBV</td>\n",
       "      <td>AbbVie Inc.</td>\n",
       "      <td>Health Care</td>\n",
       "    </tr>\n",
       "    <tr>\n",
       "      <th>4</th>\n",
       "      <td>ABMD</td>\n",
       "      <td>ABIOMED Inc</td>\n",
       "      <td>Health Care</td>\n",
       "    </tr>\n",
       "    <tr>\n",
       "      <th>...</th>\n",
       "      <td>...</td>\n",
       "      <td>...</td>\n",
       "      <td>...</td>\n",
       "    </tr>\n",
       "    <tr>\n",
       "      <th>500</th>\n",
       "      <td>YUM</td>\n",
       "      <td>Yum! Brands Inc</td>\n",
       "      <td>Consumer Discretionary</td>\n",
       "    </tr>\n",
       "    <tr>\n",
       "      <th>501</th>\n",
       "      <td>ZBRA</td>\n",
       "      <td>Zebra Technologies</td>\n",
       "      <td>Information Technology</td>\n",
       "    </tr>\n",
       "    <tr>\n",
       "      <th>502</th>\n",
       "      <td>ZBH</td>\n",
       "      <td>Zimmer Biomet Holdings</td>\n",
       "      <td>Health Care</td>\n",
       "    </tr>\n",
       "    <tr>\n",
       "      <th>503</th>\n",
       "      <td>ZION</td>\n",
       "      <td>Zions Bancorp</td>\n",
       "      <td>Financials</td>\n",
       "    </tr>\n",
       "    <tr>\n",
       "      <th>504</th>\n",
       "      <td>ZTS</td>\n",
       "      <td>Zoetis</td>\n",
       "      <td>Health Care</td>\n",
       "    </tr>\n",
       "  </tbody>\n",
       "</table>\n",
       "<p>505 rows × 3 columns</p>\n",
       "</div>"
      ],
      "text/plain": [
       "    Symbol                    Name                  Sector\n",
       "0      MMM              3M Company             Industrials\n",
       "1      AOS         A.O. Smith Corp             Industrials\n",
       "2      ABT     Abbott Laboratories             Health Care\n",
       "3     ABBV             AbbVie Inc.             Health Care\n",
       "4     ABMD             ABIOMED Inc             Health Care\n",
       "..     ...                     ...                     ...\n",
       "500    YUM         Yum! Brands Inc  Consumer Discretionary\n",
       "501   ZBRA      Zebra Technologies  Information Technology\n",
       "502    ZBH  Zimmer Biomet Holdings             Health Care\n",
       "503   ZION           Zions Bancorp              Financials\n",
       "504    ZTS                  Zoetis             Health Care\n",
       "\n",
       "[505 rows x 3 columns]"
      ]
     },
     "execution_count": 18,
     "metadata": {},
     "output_type": "execute_result"
    }
   ],
   "source": [
    "df_stocks"
   ]
  },
  {
   "cell_type": "markdown",
   "metadata": {},
   "source": [
    "<h1>Data Wrangling</h1>"
   ]
  },
  {
   "cell_type": "code",
   "execution_count": 19,
   "metadata": {},
   "outputs": [],
   "source": [
    "df_stocks.drop(columns=['Name','Sector'],axis=1,inplace=True)\n",
    "df_stocks.set_index('Symbol')\n",
    "df_stocks = df_stocks.transpose()\n",
    "df_stocks.columns=df_stocks.iloc[0].values\n",
    "df_stocks.drop(index='Symbol',inplace=True)\n",
    "df_stocks=df_stocks.rename(columns={'BRK.B':'BRK-B','BF.B':'BFB'})"
   ]
  },
  {
   "cell_type": "code",
   "execution_count": 20,
   "metadata": {},
   "outputs": [
    {
     "data": {
      "text/html": [
       "<div>\n",
       "<style scoped>\n",
       "    .dataframe tbody tr th:only-of-type {\n",
       "        vertical-align: middle;\n",
       "    }\n",
       "\n",
       "    .dataframe tbody tr th {\n",
       "        vertical-align: top;\n",
       "    }\n",
       "\n",
       "    .dataframe thead th {\n",
       "        text-align: right;\n",
       "    }\n",
       "</style>\n",
       "<table border=\"1\" class=\"dataframe\">\n",
       "  <thead>\n",
       "    <tr style=\"text-align: right;\">\n",
       "      <th></th>\n",
       "      <th>MMM</th>\n",
       "      <th>AOS</th>\n",
       "      <th>ABT</th>\n",
       "      <th>ABBV</th>\n",
       "      <th>ABMD</th>\n",
       "      <th>ACN</th>\n",
       "      <th>ATVI</th>\n",
       "      <th>ADBE</th>\n",
       "      <th>AAP</th>\n",
       "      <th>AMD</th>\n",
       "      <th>...</th>\n",
       "      <th>WYNN</th>\n",
       "      <th>XEL</th>\n",
       "      <th>XRX</th>\n",
       "      <th>XLNX</th>\n",
       "      <th>XYL</th>\n",
       "      <th>YUM</th>\n",
       "      <th>ZBRA</th>\n",
       "      <th>ZBH</th>\n",
       "      <th>ZION</th>\n",
       "      <th>ZTS</th>\n",
       "    </tr>\n",
       "  </thead>\n",
       "  <tbody>\n",
       "  </tbody>\n",
       "</table>\n",
       "<p>0 rows × 505 columns</p>\n",
       "</div>"
      ],
      "text/plain": [
       "Empty DataFrame\n",
       "Columns: [MMM, AOS, ABT, ABBV, ABMD, ACN, ATVI, ADBE, AAP, AMD, AES, AFL, A, APD, AKAM, ALK, ALB, ARE, ALXN, ALGN, ALLE, LNT, ALL, GOOGL, GOOG, MO, AMZN, AMCR, AEE, AAL, AEP, AXP, AIG, AMT, AWK, AMP, ABC, AME, AMGN, APH, ADI, ANSS, ANTM, AON, APA, AIV, AAPL, AMAT, APTV, ADM, ANET, AJG, AIZ, T, ATO, ADSK, ADP, AZO, AVB, AVY, BKR, BLL, BAC, BAX, BDX, BRK-B, BBY, BIO, BIIB, BLK, BA, BKNG, BWA, BXP, BSX, BMY, AVGO, BR, BFB, CHRW, COG, CDNS, CPB, COF, CAH, KMX, CCL, CARR, CAT, CBOE, CBRE, CDW, CE, CNC, CNP, CTL, CERN, CF, SCHW, CHTR, ...]\n",
       "Index: []\n",
       "\n",
       "[0 rows x 505 columns]"
      ]
     },
     "execution_count": 20,
     "metadata": {},
     "output_type": "execute_result"
    }
   ],
   "source": [
    "df_stocks"
   ]
  },
  {
   "cell_type": "markdown",
   "metadata": {},
   "source": [
    "<h2>Pseudo Code</h2>\n",
    "\n",
    "Code needs to loop through all of the column headers (stock ticker names)\n",
    "\n",
    "Then code should feed each name into yf.Tickers. In the same line, continue with the .history attribute with a period of <b>one day </b> this returns a dataframe with various stock info in multiple columns.\n",
    "\n",
    "Get the Opening stock price column from the dataframe and make sure it comes in a format that can be put into a list of the same length as the number of stock tickers we have (505)"
   ]
  },
  {
   "cell_type": "code",
   "execution_count": 6,
   "metadata": {},
   "outputs": [],
   "source": [
    "#run this once per day\n",
    "current_price = []\n",
    "for tick in df_stocks.columns:\n",
    "    current_price.append(yf.Ticker(tick).history(period='1d').Open.values[0])"
   ]
  },
  {
   "cell_type": "code",
   "execution_count": 62,
   "metadata": {},
   "outputs": [],
   "source": [
    "# finds the lowest row in the dataframe (How? Since python uses 0-indexing and the len() function returns a real count, inputting the output of the length of an index as an index location will always result in the lowest position of the index +1)\n",
    "# sets the list of stock prices created above as the bottom row\n",
    "df_stocks.loc[len(df_stocks.index)] = current_price"
   ]
  },
  {
   "cell_type": "code",
   "execution_count": 97,
   "metadata": {},
   "outputs": [
    {
     "name": "stdout",
     "output_type": "stream",
     "text": [
      "194 ms ± 28.6 ms per loop (mean ± std. dev. of 7 runs, 10 loops each)\n"
     ]
    }
   ],
   "source": [
    "# testing which code segement runs faster\n",
    "%%timeit\n",
    "yf.Ticker('MSFT').history(period='1d').Open.values.tolist()[0]"
   ]
  },
  {
   "cell_type": "code",
   "execution_count": 95,
   "metadata": {},
   "outputs": [
    {
     "name": "stdout",
     "output_type": "stream",
     "text": [
      "184 ms ± 13.4 ms per loop (mean ± std. dev. of 7 runs, 10 loops each)\n"
     ]
    }
   ],
   "source": [
    "# testing which code segement runs faster\n",
    "%%timeit\n",
    "yf.Ticker('MSFT').history(period='1d').Open.values[0]"
   ]
  },
  {
   "cell_type": "code",
   "execution_count": 104,
   "metadata": {},
   "outputs": [],
   "source": [
    "# used this code when testing to remove data that was in the way\n",
    "df_stocks.drop(index=[0,1],inplace=True,axis=0)"
   ]
  },
  {
   "cell_type": "code",
   "execution_count": 63,
   "metadata": {},
   "outputs": [
    {
     "data": {
      "text/html": [
       "<div>\n",
       "<style scoped>\n",
       "    .dataframe tbody tr th:only-of-type {\n",
       "        vertical-align: middle;\n",
       "    }\n",
       "\n",
       "    .dataframe tbody tr th {\n",
       "        vertical-align: top;\n",
       "    }\n",
       "\n",
       "    .dataframe thead th {\n",
       "        text-align: right;\n",
       "    }\n",
       "</style>\n",
       "<table border=\"1\" class=\"dataframe\">\n",
       "  <thead>\n",
       "    <tr style=\"text-align: right;\">\n",
       "      <th></th>\n",
       "      <th>MMM</th>\n",
       "      <th>AOS</th>\n",
       "      <th>ABT</th>\n",
       "      <th>ABBV</th>\n",
       "      <th>ABMD</th>\n",
       "      <th>ACN</th>\n",
       "      <th>ATVI</th>\n",
       "      <th>ADBE</th>\n",
       "      <th>AAP</th>\n",
       "      <th>AMD</th>\n",
       "      <th>...</th>\n",
       "      <th>WYNN</th>\n",
       "      <th>XEL</th>\n",
       "      <th>XRX</th>\n",
       "      <th>XLNX</th>\n",
       "      <th>XYL</th>\n",
       "      <th>YUM</th>\n",
       "      <th>ZBRA</th>\n",
       "      <th>ZBH</th>\n",
       "      <th>ZION</th>\n",
       "      <th>ZTS</th>\n",
       "    </tr>\n",
       "  </thead>\n",
       "  <tbody>\n",
       "    <tr>\n",
       "      <th>0</th>\n",
       "      <td>165.0</td>\n",
       "      <td>50.11</td>\n",
       "      <td>99.55</td>\n",
       "      <td>93.45</td>\n",
       "      <td>294.85</td>\n",
       "      <td>230.3</td>\n",
       "      <td>79.58</td>\n",
       "      <td>437.37</td>\n",
       "      <td>153.58</td>\n",
       "      <td>78.43</td>\n",
       "      <td>...</td>\n",
       "      <td>89.49</td>\n",
       "      <td>70.72</td>\n",
       "      <td>17.89</td>\n",
       "      <td>104.67</td>\n",
       "      <td>80.95</td>\n",
       "      <td>93.3</td>\n",
       "      <td>281.97</td>\n",
       "      <td>139.66</td>\n",
       "      <td>35.61</td>\n",
       "      <td>157.31</td>\n",
       "    </tr>\n",
       "    <tr>\n",
       "      <th>1</th>\n",
       "      <td>165.0</td>\n",
       "      <td>50.11</td>\n",
       "      <td>99.55</td>\n",
       "      <td>93.45</td>\n",
       "      <td>294.85</td>\n",
       "      <td>230.3</td>\n",
       "      <td>79.58</td>\n",
       "      <td>437.37</td>\n",
       "      <td>153.58</td>\n",
       "      <td>78.43</td>\n",
       "      <td>...</td>\n",
       "      <td>89.49</td>\n",
       "      <td>70.72</td>\n",
       "      <td>17.89</td>\n",
       "      <td>104.67</td>\n",
       "      <td>80.95</td>\n",
       "      <td>93.3</td>\n",
       "      <td>281.97</td>\n",
       "      <td>139.66</td>\n",
       "      <td>35.61</td>\n",
       "      <td>157.31</td>\n",
       "    </tr>\n",
       "  </tbody>\n",
       "</table>\n",
       "<p>2 rows × 505 columns</p>\n",
       "</div>"
      ],
      "text/plain": [
       "     MMM    AOS    ABT   ABBV    ABMD    ACN   ATVI    ADBE     AAP    AMD  \\\n",
       "0  165.0  50.11  99.55  93.45  294.85  230.3  79.58  437.37  153.58  78.43   \n",
       "1  165.0  50.11  99.55  93.45  294.85  230.3  79.58  437.37  153.58  78.43   \n",
       "\n",
       "   ...   WYNN    XEL    XRX    XLNX    XYL   YUM    ZBRA     ZBH   ZION  \\\n",
       "0  ...  89.49  70.72  17.89  104.67  80.95  93.3  281.97  139.66  35.61   \n",
       "1  ...  89.49  70.72  17.89  104.67  80.95  93.3  281.97  139.66  35.61   \n",
       "\n",
       "      ZTS  \n",
       "0  157.31  \n",
       "1  157.31  \n",
       "\n",
       "[2 rows x 505 columns]"
      ]
     },
     "execution_count": 63,
     "metadata": {},
     "output_type": "execute_result"
    }
   ],
   "source": [
    "df_stocks"
   ]
  },
  {
   "cell_type": "code",
   "execution_count": null,
   "metadata": {},
   "outputs": [],
   "source": []
  }
 ],
 "metadata": {
  "kernelspec": {
   "display_name": "Python 3",
   "language": "python",
   "name": "python3"
  },
  "language_info": {
   "codemirror_mode": {
    "name": "ipython",
    "version": 3
   },
   "file_extension": ".py",
   "mimetype": "text/x-python",
   "name": "python",
   "nbconvert_exporter": "python",
   "pygments_lexer": "ipython3",
   "version": "3.7.6"
  }
 },
 "nbformat": 4,
 "nbformat_minor": 4
}
