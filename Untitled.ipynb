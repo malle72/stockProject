{
 "cells": [
  {
   "cell_type": "code",
   "execution_count": 1,
   "metadata": {},
   "outputs": [
    {
     "data": {
      "text/html": [
       "<div>\n",
       "<style scoped>\n",
       "    .dataframe tbody tr th:only-of-type {\n",
       "        vertical-align: middle;\n",
       "    }\n",
       "\n",
       "    .dataframe tbody tr th {\n",
       "        vertical-align: top;\n",
       "    }\n",
       "\n",
       "    .dataframe thead th {\n",
       "        text-align: right;\n",
       "    }\n",
       "</style>\n",
       "<table border=\"1\" class=\"dataframe\">\n",
       "  <thead>\n",
       "    <tr style=\"text-align: right;\">\n",
       "      <th></th>\n",
       "      <th>Open</th>\n",
       "      <th>High</th>\n",
       "      <th>Low</th>\n",
       "      <th>Close</th>\n",
       "      <th>Volume</th>\n",
       "      <th>Dividends</th>\n",
       "      <th>Stock Splits</th>\n",
       "    </tr>\n",
       "    <tr>\n",
       "      <th>Date</th>\n",
       "      <th></th>\n",
       "      <th></th>\n",
       "      <th></th>\n",
       "      <th></th>\n",
       "      <th></th>\n",
       "      <th></th>\n",
       "      <th></th>\n",
       "    </tr>\n",
       "  </thead>\n",
       "  <tbody>\n",
       "    <tr>\n",
       "      <th>2010-01-04</th>\n",
       "      <td>23.97</td>\n",
       "      <td>24.34</td>\n",
       "      <td>23.95</td>\n",
       "      <td>24.23</td>\n",
       "      <td>38409100</td>\n",
       "      <td>0.0</td>\n",
       "      <td>0</td>\n",
       "    </tr>\n",
       "    <tr>\n",
       "      <th>2010-01-05</th>\n",
       "      <td>24.15</td>\n",
       "      <td>24.34</td>\n",
       "      <td>23.98</td>\n",
       "      <td>24.23</td>\n",
       "      <td>49749600</td>\n",
       "      <td>0.0</td>\n",
       "      <td>0</td>\n",
       "    </tr>\n",
       "    <tr>\n",
       "      <th>2010-01-06</th>\n",
       "      <td>24.17</td>\n",
       "      <td>24.33</td>\n",
       "      <td>23.89</td>\n",
       "      <td>24.09</td>\n",
       "      <td>58182400</td>\n",
       "      <td>0.0</td>\n",
       "      <td>0</td>\n",
       "    </tr>\n",
       "    <tr>\n",
       "      <th>2010-01-07</th>\n",
       "      <td>23.98</td>\n",
       "      <td>24.03</td>\n",
       "      <td>23.63</td>\n",
       "      <td>23.84</td>\n",
       "      <td>50559700</td>\n",
       "      <td>0.0</td>\n",
       "      <td>0</td>\n",
       "    </tr>\n",
       "    <tr>\n",
       "      <th>2010-01-08</th>\n",
       "      <td>23.70</td>\n",
       "      <td>24.17</td>\n",
       "      <td>23.67</td>\n",
       "      <td>24.00</td>\n",
       "      <td>51197400</td>\n",
       "      <td>0.0</td>\n",
       "      <td>0</td>\n",
       "    </tr>\n",
       "    <tr>\n",
       "      <th>...</th>\n",
       "      <td>...</td>\n",
       "      <td>...</td>\n",
       "      <td>...</td>\n",
       "      <td>...</td>\n",
       "      <td>...</td>\n",
       "      <td>...</td>\n",
       "      <td>...</td>\n",
       "    </tr>\n",
       "    <tr>\n",
       "      <th>2020-01-17</th>\n",
       "      <td>166.50</td>\n",
       "      <td>166.55</td>\n",
       "      <td>164.52</td>\n",
       "      <td>166.18</td>\n",
       "      <td>34371700</td>\n",
       "      <td>0.0</td>\n",
       "      <td>0</td>\n",
       "    </tr>\n",
       "    <tr>\n",
       "      <th>2020-01-21</th>\n",
       "      <td>165.76</td>\n",
       "      <td>167.27</td>\n",
       "      <td>165.52</td>\n",
       "      <td>165.59</td>\n",
       "      <td>29517200</td>\n",
       "      <td>0.0</td>\n",
       "      <td>0</td>\n",
       "    </tr>\n",
       "    <tr>\n",
       "      <th>2020-01-22</th>\n",
       "      <td>166.48</td>\n",
       "      <td>166.57</td>\n",
       "      <td>164.77</td>\n",
       "      <td>164.79</td>\n",
       "      <td>24138800</td>\n",
       "      <td>0.0</td>\n",
       "      <td>0</td>\n",
       "    </tr>\n",
       "    <tr>\n",
       "      <th>2020-01-23</th>\n",
       "      <td>165.28</td>\n",
       "      <td>165.88</td>\n",
       "      <td>164.36</td>\n",
       "      <td>165.80</td>\n",
       "      <td>19680800</td>\n",
       "      <td>0.0</td>\n",
       "      <td>0</td>\n",
       "    </tr>\n",
       "    <tr>\n",
       "      <th>2020-01-24</th>\n",
       "      <td>166.59</td>\n",
       "      <td>166.61</td>\n",
       "      <td>163.55</td>\n",
       "      <td>164.13</td>\n",
       "      <td>24903000</td>\n",
       "      <td>0.0</td>\n",
       "      <td>0</td>\n",
       "    </tr>\n",
       "  </tbody>\n",
       "</table>\n",
       "<p>2532 rows × 7 columns</p>\n",
       "</div>"
      ],
      "text/plain": [
       "              Open    High     Low   Close    Volume  Dividends  Stock Splits\n",
       "Date                                                                         \n",
       "2010-01-04   23.97   24.34   23.95   24.23  38409100        0.0             0\n",
       "2010-01-05   24.15   24.34   23.98   24.23  49749600        0.0             0\n",
       "2010-01-06   24.17   24.33   23.89   24.09  58182400        0.0             0\n",
       "2010-01-07   23.98   24.03   23.63   23.84  50559700        0.0             0\n",
       "2010-01-08   23.70   24.17   23.67   24.00  51197400        0.0             0\n",
       "...            ...     ...     ...     ...       ...        ...           ...\n",
       "2020-01-17  166.50  166.55  164.52  166.18  34371700        0.0             0\n",
       "2020-01-21  165.76  167.27  165.52  165.59  29517200        0.0             0\n",
       "2020-01-22  166.48  166.57  164.77  164.79  24138800        0.0             0\n",
       "2020-01-23  165.28  165.88  164.36  165.80  19680800        0.0             0\n",
       "2020-01-24  166.59  166.61  163.55  164.13  24903000        0.0             0\n",
       "\n",
       "[2532 rows x 7 columns]"
      ]
     },
     "execution_count": 1,
     "metadata": {},
     "output_type": "execute_result"
    }
   ],
   "source": [
    "import yfinance as yf\n",
    "\n",
    "#define the ticker symbol\n",
    "tickerSymbol = 'MSFT'\n",
    "\n",
    "#get data on this ticker\n",
    "tickerData = yf.Ticker(tickerSymbol)\n",
    "\n",
    "#get the historical prices for this ticker\n",
    "tickerDf = tickerData.history(period='1d', start='2010-1-1', end='2020-1-25')\n",
    "\n",
    "#see your data\n",
    "tickerDf"
   ]
  },
  {
   "cell_type": "code",
   "execution_count": 2,
   "metadata": {},
   "outputs": [
    {
     "data": {
      "text/plain": [
       "Date\n",
       "2010-01-04     23.97\n",
       "2010-01-05     24.15\n",
       "2010-01-06     24.17\n",
       "2010-01-07     23.98\n",
       "2010-01-08     23.70\n",
       "               ...  \n",
       "2020-01-17    166.50\n",
       "2020-01-21    165.76\n",
       "2020-01-22    166.48\n",
       "2020-01-23    165.28\n",
       "2020-01-24    166.59\n",
       "Name: Open, Length: 2532, dtype: float64"
      ]
     },
     "execution_count": 2,
     "metadata": {},
     "output_type": "execute_result"
    }
   ],
   "source": [
    "tickerDf.Open"
   ]
  },
  {
   "cell_type": "code",
   "execution_count": 3,
   "metadata": {},
   "outputs": [],
   "source": [
    "import matplotlib.pyplot as plt\n",
    "import seaborn as sns"
   ]
  },
  {
   "cell_type": "code",
   "execution_count": 7,
   "metadata": {},
   "outputs": [
    {
     "data": {
      "image/png": "[encoded data removed]",
      "text/plain": [
       "<Figure size 432x288 with 1 Axes>"
      ]
     },
     "metadata": {
      "needs_background": "light"
     },
     "output_type": "display_data"
    }
   ],
   "source": [
    "plt.plot(tickerDf.index,tickerDf.Open)\n",
    "plt.plot(tickerDf.index,tickerDf.High)\n",
    "plt.plot(tickerDf.index,tickerDf.Low)\n",
    "plt.show()"
   ]
  },
  {
   "cell_type": "code",
   "execution_count": null,
   "metadata": {},
   "outputs": [],
   "source": []
  }
 ],
 "metadata": {
  "kernelspec": {
   "display_name": "Python 3",
   "language": "python",
   "name": "python3"
  },
  "language_info": {
   "codemirror_mode": {
    "name": "ipython",
    "version": 3
   },
   "file_extension": ".py",
   "mimetype": "text/x-python",
   "name": "python",
   "nbconvert_exporter": "python",
   "pygments_lexer": "ipython3",
   "version": "3.7.6"
  }
 },
 "nbformat": 4,
 "nbformat_minor": 4
}
